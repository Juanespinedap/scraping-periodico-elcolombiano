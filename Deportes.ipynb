{
 "cells": [
  {
   "attachments": {},
   "cell_type": "markdown",
   "metadata": {},
   "source": [
    "# Noticias deportivas"
   ]
  },
  {
   "cell_type": "code",
   "execution_count": 1,
   "metadata": {},
   "outputs": [],
   "source": [
    "# Librerias\n",
    "\n",
    "import requests\n",
    "from bs4 import BeautifulSoup"
   ]
  },
  {
   "attachments": {},
   "cell_type": "markdown",
   "metadata": {},
   "source": [
    "##### Enlace"
   ]
  },
  {
   "cell_type": "code",
   "execution_count": 2,
   "metadata": {},
   "outputs": [
    {
     "data": {
      "text/plain": [
       "'https://www.elcolombiano.com/deportes'"
      ]
     },
     "execution_count": 2,
     "metadata": {},
     "output_type": "execute_result"
    }
   ],
   "source": [
    "pagina_inicial = requests.get(\"https://www.elcolombiano.com\")\n",
    "pagina_inicial = BeautifulSoup(pagina_inicial.text, \"html.parser\")\n",
    "pagina_inicial = pagina_inicial.find(name=\"ul\", attrs={\"class\" : \"nav__seccion__list display-flex\"}).find_all(\"li\")\n",
    "\n",
    "sec_pagina_inicial = [i.a.get(\"href\") for i in pagina_inicial]\n",
    "deportes_link = sec_pagina_inicial[3]\n",
    "deportes_link\n"
   ]
  },
  {
   "attachments": {},
   "cell_type": "markdown",
   "metadata": {},
   "source": [
    "##### Titulares y links de noticias deportivas"
   ]
  },
  {
   "attachments": {},
   "cell_type": "markdown",
   "metadata": {},
   "source": [
    "Por etiquetas"
   ]
  },
  {
   "cell_type": "code",
   "execution_count": 3,
   "metadata": {},
   "outputs": [
    {
     "name": "stdout",
     "output_type": "stream",
     "text": [
      "/deportes/futbol/la-bitacora-secreta-del-ataque-de-las-barras-en-el-partido-nacional-america-NK21185976 \n",
      " ['/deportes/futbol/deinner-quinones-el-extremo-que-encontro-su-casa-en-el-dim-FK21184436', '/deportes/envigado-recibe-a-nacional-en-un-duelo-para-recuperar-la-convivencia-en-el-futbol-paisa-NK21185686'] \n",
      " ['/deportes/futbol/linda-caicedo-titular-con-el-real-madrid-en-el-duelo-ante-villarreal-OK21186800', '/deportes/ciclismo/tadej-pogacar-se-fracturo-una-muneca-a-dos-meses-del-tour-de-francia-NK21186759', '/deportes/ruteros-buscan-el-cupo-olimpico-en-panama-JK21185509', '/deportes/futbol/camaras-del-estadio-no-sirvieron-para-detectar-a-los-vandalos-del-domingo-KK21185861'] \n",
      " ['/deportes/ruteros-buscan-el-cupo-olimpico-en-panama-JK21185509', '/deportes/futbol/linda-caicedo-jugara-con-real-madrid-en-liga-de-espana-fecha-26-LK21185482', '/deportes/futbol/liverpool-luis-diaz-gano-al-nottingham-forest-premier-league-EK21184145', '/deportes/futbol/bayern-perdio-con-el-mainz-en-la-bundesliga-OK21184039'] \n",
      " ['/deportes/envigado-recibe-a-nacional-en-un-duelo-para-recuperar-la-convivencia-en-el-futbol-paisa-NK21185686', '/deportes/futbol/camaras-del-estadio-no-sirvieron-para-detectar-a-los-vandalos-del-domingo-KK21185861', '/deportes/futbol/deinner-quinones-el-extremo-que-encontro-su-casa-en-el-dim-FK21184436']\n"
     ]
    }
   ],
   "source": [
    "deportes = requests.get(deportes_link)\n",
    "deportes = BeautifulSoup(deportes.text, \"html.parser\")\n",
    "\n",
    "link = deportes.find(name=\"h3\", attrs={\"class\" : \"titprincipal\"}).find(\"a\")\n",
    "principal = link.get(\"href\")\n",
    "\n",
    "link1 = deportes.find(name=\"div\", attrs={\"class\" : \"portlet-boundary portlet-static-end teaser-viewer-portlet central-n-secundarias reveal\"}).find_all(\"h3\")\n",
    "right = [i.a.get(\"href\") for i in link1]\n",
    "\n",
    "link2 = deportes.find(name=\"div\", attrs={\"class\" : \"portlet-boundary portlet-static-end teaser-viewer-portlet lista-portada lista-sec-interna-derecha m-top\"}).find_all(\"div\")\n",
    "der_up = []\n",
    "for i in link2:\n",
    "  links = i.h3\n",
    "  if links == None:\n",
    "    continue\n",
    "  else:\n",
    "    der_up.append(links.a.get(\"href\"))\n",
    "\n",
    "der_up = list(set(der_up))\n",
    "\n",
    "link3 = deportes.find(name=\"div\", attrs={\"class\" : \"portlet-boundary portlet-static-end teaser-viewer-portlet lista-portada\"}).find_all(\"article\")\n",
    "carrusel = []\n",
    "for i in link3:\n",
    "  links = i.h3\n",
    "  carrusel.append(links.a.get(\"href\"))\n",
    "\n",
    "link4 = deportes.find_all(name=\"div\", attrs={\"class\" : \"portlet-boundary portlet-static-end teaser-viewer-portlet central-n-secundarias principales-3\"})\n",
    "# j = [i for i in link4][1]\n",
    "medio = []\n",
    "for i in link4:\n",
    "    news = i.h3\n",
    "    medio.append(news.a.get(\"href\"))\n",
    "\n",
    "medio = medio[1:4]\n",
    "\n",
    "print(principal, \"\\n\", right, \"\\n\", der_up, \"\\n\", carrusel, \"\\n\", medio )"
   ]
  },
  {
   "attachments": {},
   "cell_type": "markdown",
   "metadata": {},
   "source": [
    "Por solo una etiqueta"
   ]
  },
  {
   "cell_type": "code",
   "execution_count": 4,
   "metadata": {},
   "outputs": [
    {
     "data": {
      "text/plain": [
       "['https://www.elcolombiano.com/deportes/deportes/futbol/la-bitacora-secreta-del-ataque-de-las-barras-en-el-partido-nacional-america-NK21185976',\n",
       " 'https://www.elcolombiano.com/deportes/deportes/futbol/deinner-quinones-el-extremo-que-encontro-su-casa-en-el-dim-FK21184436',\n",
       " 'https://www.elcolombiano.com/deportes/deportes/envigado-recibe-a-nacional-en-un-duelo-para-recuperar-la-convivencia-en-el-futbol-paisa-NK21185686',\n",
       " 'https://www.elcolombiano.com/deportes/deportes/futbol/linda-caicedo-titular-con-el-real-madrid-en-el-duelo-ante-villarreal-OK21186800',\n",
       " 'https://www.elcolombiano.com/deportes/deportes/ciclismo/tadej-pogacar-se-fracturo-una-muneca-a-dos-meses-del-tour-de-francia-NK21186759',\n",
       " 'https://www.elcolombiano.com/deportes/deportes/ruteros-buscan-el-cupo-olimpico-en-panama-JK21185509',\n",
       " 'https://www.elcolombiano.com/deportes/deportes/futbol/camaras-del-estadio-no-sirvieron-para-detectar-a-los-vandalos-del-domingo-KK21185861',\n",
       " 'https://www.elcolombiano.com/deportes/podcast/linea-de-gol/nacional-y-los-del-sur-un-desencuentro-para-analizar-MF21178271',\n",
       " 'https://www.elcolombiano.com/deportes/deportes/ruteros-buscan-el-cupo-olimpico-en-panama-JK21185509',\n",
       " 'https://www.elcolombiano.com/deportes/deportes/futbol/linda-caicedo-jugara-con-real-madrid-en-liga-de-espana-fecha-26-LK21185482',\n",
       " 'https://www.elcolombiano.com/deportes/deportes/futbol/liverpool-luis-diaz-gano-al-nottingham-forest-premier-league-EK21184145',\n",
       " 'https://www.elcolombiano.com/deportes/deportes/futbol/bayern-perdio-con-el-mainz-en-la-bundesliga-OK21184039',\n",
       " 'https://www.elcolombiano.com/deportes/deportes/envigado-recibe-a-nacional-en-un-duelo-para-recuperar-la-convivencia-en-el-futbol-paisa-NK21185686',\n",
       " 'https://www.elcolombiano.com/deportes/deportes/aguilas-doradas-empato-en-su-visita-a-pasto-y-se-mantiene-solido-en-la-liga-betplay-MK21182790',\n",
       " 'https://www.elcolombiano.com/deportes/deportes/jesus-rivas-exhibe-magia-y-talento-con-aguilas-en-la-liga-betplay-HF21174175']"
      ]
     },
     "execution_count": 4,
     "metadata": {},
     "output_type": "execute_result"
    }
   ],
   "source": [
    "todos  = deportes.find_all(name=\"article\", attrs={\"class\" : \"article element full-access norestricted\"})\n",
    "all_news = []\n",
    "\n",
    "for i in todos:\n",
    "    campos = i.h3\n",
    "    if campos == None:\n",
    "        continue\n",
    "    all_news.append(campos.a.get(\"href\"))\n",
    "primeros = all_news[:12]\n",
    "segundos = all_news[35:38]\n",
    "\n",
    "links = []\n",
    "for i in primeros:\n",
    "    links.append(deportes_link + i)\n",
    "for j in segundos:\n",
    "    links.append(deportes_link + j)\n",
    "\n",
    "links"
   ]
  },
  {
   "cell_type": "code",
   "execution_count": 5,
   "metadata": {},
   "outputs": [
    {
     "data": {
      "text/plain": [
       "{'deportes': [{'La bitácora secreta del ataque de las barras en el partido Nacional-América en el Atanasio': 'https://www.elcolombiano.com/deportes/deportes/futbol/la-bitacora-secreta-del-ataque-de-las-barras-en-el-partido-nacional-america-NK21185976'},\n",
       "  {'‘Deiqui’ recupera brillo en su tercera etapa con el DIM': 'https://www.elcolombiano.com/deportes/deportes/futbol/deinner-quinones-el-extremo-que-encontro-su-casa-en-el-dim-FK21184436'},\n",
       "  {'Envigado recibe a Nacional en un duelo para recuperar la convivencia en el fútbol paisa': 'https://www.elcolombiano.com/deportes/deportes/envigado-recibe-a-nacional-en-un-duelo-para-recuperar-la-convivencia-en-el-futbol-paisa-NK21185686'},\n",
       "  {'En vivo: Real Madrid pierde parcialmente ante Villarreal, Linda Caicedo está como titular': 'https://www.elcolombiano.com/deportes/deportes/futbol/linda-caicedo-titular-con-el-real-madrid-en-el-duelo-ante-villarreal-OK21186800'},\n",
       "  {'Tadej Pogacar sufrió una fractura y será operado, ¿le dice adiós al Tour de Francia?': 'https://www.elcolombiano.com/deportes/deportes/ciclismo/tadej-pogacar-se-fracturo-una-muneca-a-dos-meses-del-tour-de-francia-NK21186759'},\n",
       "  {'Ruteros van al asalto de cupo olímpico en Panamá': 'https://www.elcolombiano.com/deportes/deportes/ruteros-buscan-el-cupo-olimpico-en-panama-JK21185509'},\n",
       "  {'Cámaras del estadio no sirvieron para detectar a los vándalos del domingo': 'https://www.elcolombiano.com/deportes/deportes/futbol/camaras-del-estadio-no-sirvieron-para-detectar-a-los-vandalos-del-domingo-KK21185861'},\n",
       "  {'Nacional y Los Del Sur: un desencuentro para analizar': 'https://www.elcolombiano.com/deportes/podcast/linea-de-gol/nacional-y-los-del-sur-un-desencuentro-para-analizar-MF21178271'},\n",
       "  {'Ruteros van al asalto de cupo olímpico en Panamá': 'https://www.elcolombiano.com/deportes/deportes/ruteros-buscan-el-cupo-olimpico-en-panama-JK21185509'},\n",
       "  {'Linda Caicedo buscará repetir gol ante el Villarreal de España; ¿a qué horas juega?': 'https://www.elcolombiano.com/deportes/deportes/futbol/linda-caicedo-jugara-con-real-madrid-en-liga-de-espana-fecha-26-LK21185482'},\n",
       "  {'Luis Díaz jugó 15 minutos en la victoria de Liverpool ante Nottingham Forest; así le fue al colombiano': 'https://www.elcolombiano.com/deportes/deportes/futbol/liverpool-luis-diaz-gano-al-nottingham-forest-premier-league-EK21184145'},\n",
       "  {'Bayern Munich cae goleado ante el Mainz y deja abierta la lucha por el título de la Bundesliga': 'https://www.elcolombiano.com/deportes/deportes/futbol/bayern-perdio-con-el-mainz-en-la-bundesliga-OK21184039'},\n",
       "  {'Envigado recibe a Nacional en un duelo para recuperar la convivencia en el fútbol paisa': 'https://www.elcolombiano.com/deportes/deportes/envigado-recibe-a-nacional-en-un-duelo-para-recuperar-la-convivencia-en-el-futbol-paisa-NK21185686'},\n",
       "  {'Águilas empató en su visita a Pasto y se mantiene sólido en la Liga Betplay': 'https://www.elcolombiano.com/deportes/deportes/aguilas-doradas-empato-en-su-visita-a-pasto-y-se-mantiene-solido-en-la-liga-betplay-MK21182790'},\n",
       "  {'Jesús Rivas despliega magia con el líder Águilas': 'https://www.elcolombiano.com/deportes/deportes/jesus-rivas-exhibe-magia-y-talento-con-aguilas-en-la-liga-betplay-HF21174175'}]}"
      ]
     },
     "execution_count": 5,
     "metadata": {},
     "output_type": "execute_result"
    }
   ],
   "source": [
    "news = {}\n",
    "news[\"deportes\"] = []\n",
    "\n",
    "for i in links:\n",
    "  prueba1 = requests.get(i)\n",
    "  prueba2 = BeautifulSoup(prueba1.text, \"html.parser\")\n",
    "  titulo_code = prueba2.find(\"title\")\n",
    "  titulo_uncode = titulo_code.get_text()\n",
    "  titulo = titulo_uncode.encode('iso-8859-1').decode('utf-8')\n",
    "  news[\"deportes\"].append({titulo : i})\n",
    "\n",
    "news"
   ]
  },
  {
   "attachments": {},
   "cell_type": "markdown",
   "metadata": {},
   "source": [
    "##### Otros titulares deportivas"
   ]
  },
  {
   "cell_type": "code",
   "execution_count": 6,
   "metadata": {},
   "outputs": [
    {
     "data": {
      "text/plain": [
       "['https://www.elcolombiano.com/deportes/deportes/estas-son-las-positivas-cifras-de-aguilas-doradas-en-la-liga-betplay-LB21132669',\n",
       " 'https://www.elcolombiano.com/deportes/deportes/futbol-colombiano/tulio-gomez-dueno-del-america-no-demandara-partido-con-atletico-nacional-suspendido-por-hinchas-CB21130310',\n",
       " 'https://www.elcolombiano.com/deportes/deportes/envigado-recibe-al-tolima-con-la-obligacion-de-volver-a-la-victoria-DK21094430',\n",
       " 'https://www.elcolombiano.com/deportes/deportes/aguilas-doradas-visita-al-america-por-liga-betplay-CG21059975',\n",
       " 'https://www.elcolombiano.com/deportes/deportes/leones-juega-en-bogota-con-la-necesidad-de-lograr-el-triunfo-BF21060098',\n",
       " 'https://www.elcolombiano.com/deportes/deportes/independiente-medellin/independiente-medellin-millonarios-liga-betplay-copa-libertadores-HG21052115',\n",
       " 'https://www.elcolombiano.com/deportes/deportes/aguilas-doradas-fue-goleado-en-santa-marta-por-la-fecha-11-de-la-liga-betplay-HC20992261',\n",
       " 'https://www.elcolombiano.com/deportes/deportes/futbol/macalister-seleccion-colombia-millonarios-PK20910719',\n",
       " 'https://www.elcolombiano.com/deportes/deportes/futbol/robo-celular-hincha-cali-BK20910364',\n",
       " 'https://www.elcolombiano.com/deportes/deportes/futbol/dimayor-y-federacion-rechazaron-amenazas-contra-fernando-salazar-de-aguilas-LL20909471',\n",
       " 'https://www.elcolombiano.com/deportes/deportes/aguilas-vencio-a-envigado-aumento-su-invicto-y-llego-a-19-puntos-en-la-liga-betplay-JC20887806',\n",
       " 'https://www.elcolombiano.com/deportes/deportes/futbol/en-vivo-aguilas-ante-envigado-por-la-fecha-diez-de-la-liga-betplay-GC20887634']"
      ]
     },
     "execution_count": 6,
     "metadata": {},
     "output_type": "execute_result"
    }
   ],
   "source": [
    "otros = all_news[38:50]\n",
    "otros_links = [deportes_link + i for i in otros]\n",
    "otros_links"
   ]
  }
 ],
 "metadata": {
  "kernelspec": {
   "display_name": "venv",
   "language": "python",
   "name": "python3"
  },
  "language_info": {
   "codemirror_mode": {
    "name": "ipython",
    "version": 3
   },
   "file_extension": ".py",
   "mimetype": "text/x-python",
   "name": "python",
   "nbconvert_exporter": "python",
   "pygments_lexer": "ipython3",
   "version": "3.10.6"
  },
  "orig_nbformat": 4
 },
 "nbformat": 4,
 "nbformat_minor": 2
}
