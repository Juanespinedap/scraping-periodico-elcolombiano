{
 "cells": [
  {
   "attachments": {},
   "cell_type": "markdown",
   "metadata": {},
   "source": [
    "# Noticias de Medellín"
   ]
  },
  {
   "cell_type": "code",
   "execution_count": 7,
   "metadata": {},
   "outputs": [],
   "source": [
    "# Librerias\n",
    "\n",
    "import requests\n",
    "from bs4 import BeautifulSoup\n"
   ]
  },
  {
   "attachments": {},
   "cell_type": "markdown",
   "metadata": {},
   "source": [
    "##### Enlace"
   ]
  },
  {
   "cell_type": "code",
   "execution_count": 8,
   "metadata": {},
   "outputs": [
    {
     "data": {
      "text/plain": [
       "'https://www.elcolombiano.com/medellin'"
      ]
     },
     "execution_count": 8,
     "metadata": {},
     "output_type": "execute_result"
    }
   ],
   "source": [
    "pagina_inicial = requests.get(\"https://www.elcolombiano.com\")\n",
    "pagina_inicial = BeautifulSoup(pagina_inicial.text, \"html.parser\")\n",
    "pagina_inicial = pagina_inicial.find(name=\"ul\", attrs={\"class\" : \"nav__seccion__list display-flex\"}).find_all(\"li\")\n",
    "\n",
    "sec_pagina_inicial = [i.a.get(\"href\") for i in pagina_inicial]\n",
    "medellin_link = sec_pagina_inicial[0]\n",
    "medellin_link\n"
   ]
  },
  {
   "attachments": {},
   "cell_type": "markdown",
   "metadata": {},
   "source": [
    "##### Titulares y links de noticias de Medellín"
   ]
  },
  {
   "cell_type": "code",
   "execution_count": 9,
   "metadata": {},
   "outputs": [
    {
     "name": "stdout",
     "output_type": "stream",
     "text": [
      "/medellin/ataques-en-la-calle-a-agentes-de-transito-en-medellin-en-2023-EK21182143 \n",
      " /medellin/concejal-de-medellin-julio-gonzalez-senalado-de-acoso-laboral-el-corporado-lo-nego-CK21185654 \n",
      " /medellin/fotos-antiguas-de-medellin-en-el-archivo-de-carlos-rodriguez-foto-reporter-MK21184338 \n",
      " ['/colombia/marcha-de-la-oposicion-contra-gustavo-petro-22-de-abril-recorrido-en-medellin-LK21183787', '/medellin/alexander-obregon-renteria-el-hombre-que-entro-armado-al-palacio-de-justicia-de-medellin-EK21182446', '/medellin/alexander-obregon-dice-que-no-saco-un-arma-en-el-palacio-de-justicia-EK21182372'] \n",
      " ['/medellin/alexander-obregon-dice-que-no-saco-un-arma-en-el-palacio-de-justicia-EK21182372', '/medellin/indigenas-a-las-afueras-del-colegio-hector-abad-gomez-de-medellin-DK21182166', '/medellin/violencia-contra-la-poblacion-lgbtiq-en-medellin-CK21181829', '/medellin/evacuaron-palacio-de-justicia-por-hombre-armado-KK21181469', '/medellin/epm-abrio-nueva-licitacion-para-terminar-las-obras-civiles-de-hidroituango-MK21181287', '/medellin/dia-sin-carro-en-medellin-para-este-2023-MF21179371', '/medellin/cierres-viales-para-este-fin-de-semana-en-medellin-HF21177880', '/medellin/comunas-mas-afectadas-por-danos-a-encicla-en-medellin-HF21176427', '/medellin/pico-y-placa-medellin-viernes-21-de-abril-2023-CF21174431']\n"
     ]
    }
   ],
   "source": [
    "medellin = requests.get(medellin_link)\n",
    "medellin = BeautifulSoup(medellin.text, \"html.parser\")\n",
    "\n",
    "link = medellin.find(name=\"h3\", attrs={\"class\" : \"title__noticia__principal\"}).find(\"a\")\n",
    "principal = link.get(\"href\")\n",
    "\n",
    "link1 = medellin.find(name=\"div\", attrs={\"class\" : \"ec-teaser-noticia-seccion-metadatos\"}).find(\"a\")\n",
    "izq_up = link1.get(\"href\")\n",
    "\n",
    "link2 = medellin.find(name=\"div\", attrs={\"class\" : \"width-60 text__noticia__columna__ultimas\"})\n",
    "izq_down = link2.find(name=\"a\", attrs={\"class\" : \"google__ultimas__noticias\"})\n",
    "izq_down = izq_down.get(\"href\")\n",
    "\n",
    "link3 = medellin.find(name=\"div\", attrs={\"class\" : \"col-xs-12 col-sm-3 col-md-3 portlet-column\"}).find_all(\"div\")\n",
    "der_up = []\n",
    "for i in link3:\n",
    "  links = i.get(\"data-urldestination\")\n",
    "  if links == None:\n",
    "    continue\n",
    "  else:\n",
    "    der_up.append(links)\n",
    "\n",
    "link4 = medellin.find(name=\"div\", attrs={\"class\" : \"col-xs-12 col-sm-9 col-md-9 portlet-column\"}).find_all(\"div\")\n",
    "centro = []\n",
    "for i in link4:\n",
    "  links = i.get(\"data-urldestination\")\n",
    "  if links == None:\n",
    "    continue\n",
    "  else:\n",
    "    centro.append(links)\n",
    "\n",
    "print(principal, \"\\n\", izq_up, \"\\n\", izq_down, \"\\n\", der_up, \"\\n\", centro)"
   ]
  },
  {
   "cell_type": "code",
   "execution_count": 10,
   "metadata": {},
   "outputs": [
    {
     "data": {
      "text/plain": [
       "['https://www.elcolombiano.com/medellin/medellin/ataques-en-la-calle-a-agentes-de-transito-en-medellin-en-2023-EK21182143',\n",
       " 'https://www.elcolombiano.com/medellin/medellin/concejal-de-medellin-julio-gonzalez-senalado-de-acoso-laboral-el-corporado-lo-nego-CK21185654',\n",
       " 'https://www.elcolombiano.com/medellin/medellin/fotos-antiguas-de-medellin-en-el-archivo-de-carlos-rodriguez-foto-reporter-MK21184338',\n",
       " 'https://www.elcolombiano.com/medellin/colombia/marcha-de-la-oposicion-contra-gustavo-petro-22-de-abril-recorrido-en-medellin-LK21183787',\n",
       " 'https://www.elcolombiano.com/medellin/medellin/alexander-obregon-renteria-el-hombre-que-entro-armado-al-palacio-de-justicia-de-medellin-EK21182446',\n",
       " 'https://www.elcolombiano.com/medellin/medellin/alexander-obregon-dice-que-no-saco-un-arma-en-el-palacio-de-justicia-EK21182372',\n",
       " 'https://www.elcolombiano.com/medellin/medellin/alexander-obregon-dice-que-no-saco-un-arma-en-el-palacio-de-justicia-EK21182372',\n",
       " 'https://www.elcolombiano.com/medellin/medellin/indigenas-a-las-afueras-del-colegio-hector-abad-gomez-de-medellin-DK21182166',\n",
       " 'https://www.elcolombiano.com/medellin/medellin/violencia-contra-la-poblacion-lgbtiq-en-medellin-CK21181829',\n",
       " 'https://www.elcolombiano.com/medellin/medellin/evacuaron-palacio-de-justicia-por-hombre-armado-KK21181469',\n",
       " 'https://www.elcolombiano.com/medellin/medellin/epm-abrio-nueva-licitacion-para-terminar-las-obras-civiles-de-hidroituango-MK21181287',\n",
       " 'https://www.elcolombiano.com/medellin/medellin/dia-sin-carro-en-medellin-para-este-2023-MF21179371',\n",
       " 'https://www.elcolombiano.com/medellin/medellin/cierres-viales-para-este-fin-de-semana-en-medellin-HF21177880',\n",
       " 'https://www.elcolombiano.com/medellin/medellin/comunas-mas-afectadas-por-danos-a-encicla-en-medellin-HF21176427',\n",
       " 'https://www.elcolombiano.com/medellin/medellin/pico-y-placa-medellin-viernes-21-de-abril-2023-CF21174431']"
      ]
     },
     "execution_count": 10,
     "metadata": {},
     "output_type": "execute_result"
    }
   ],
   "source": [
    "\n",
    "listado = principal, izq_up, izq_down\n",
    "listado = list(listado)\n",
    "listado = listado + der_up + centro\n",
    "\n",
    "links = [medellin_link + i for i in listado]\n",
    "links"
   ]
  },
  {
   "cell_type": "code",
   "execution_count": 11,
   "metadata": {},
   "outputs": [
    {
     "data": {
      "text/plain": [
       "{'medellin': [{'Cada cinco días un agente de tránsito es golpeado en las calles de Medellín': 'https://www.elcolombiano.com/medellin/medellin/ataques-en-la-calle-a-agentes-de-transito-en-medellin-en-2023-EK21182143'},\n",
       "  {'Centro Democrático investigará a su concejal de Medellín Julio González, tras denuncias de acoso laboral a mujeres de su equipo': 'https://www.elcolombiano.com/medellin/medellin/concejal-de-medellin-julio-gonzalez-senalado-de-acoso-laboral-el-corporado-lo-nego-CK21185654'},\n",
       "  {'Especial | Las fotos inéditas del fugaz esplendor de la Medellín de los 30 y 40': 'https://www.elcolombiano.com/medellin/medellin/fotos-antiguas-de-medellin-en-el-archivo-de-carlos-rodriguez-foto-reporter-MK21184338'},\n",
       "  {'En imágenes: así fue la manifestación de la oposición este sábado en Medellín': 'https://www.elcolombiano.com/medellin/colombia/marcha-de-la-oposicion-contra-gustavo-petro-22-de-abril-recorrido-en-medellin-LK21183787'},\n",
       "  {'Alexander Obregón, el hombre que supuestamente entró armado al Palacio de Justicia, estuvo preso por un delito que no cometió': 'https://www.elcolombiano.com/medellin/medellin/alexander-obregon-renteria-el-hombre-que-entro-armado-al-palacio-de-justicia-de-medellin-EK21182446'},\n",
       "  {'“Que muestren el video donde esgrimí el arma; todo es un montaje burdo”: Alexánder Obregón sobre hecho en el Palacio de Justicia': 'https://www.elcolombiano.com/medellin/medellin/alexander-obregon-dice-que-no-saco-un-arma-en-el-palacio-de-justicia-EK21182372'},\n",
       "  {'“Que muestren el video donde esgrimí el arma; todo es un montaje burdo”: Alexánder Obregón sobre hecho en el Palacio de Justicia': 'https://www.elcolombiano.com/medellin/medellin/alexander-obregon-dice-que-no-saco-un-arma-en-el-palacio-de-justicia-EK21182372'},\n",
       "  {'Por problemas de convivencia en inquilinatos, indígenas se quedan a las afueras de colegio en Medellín: Personería': 'https://www.elcolombiano.com/medellin/medellin/indigenas-a-las-afueras-del-colegio-hector-abad-gomez-de-medellin-DK21182166'},\n",
       "  {'Con acto simbólico en La Alpujarra rechazaron violencia contra la población LGBTIQ+': 'https://www.elcolombiano.com/medellin/medellin/violencia-contra-la-poblacion-lgbtiq-en-medellin-CK21181829'},\n",
       "  {'Este sería el hombre que armó el caos en el Palacio de Justicia luego de sacar un arma de fuego': 'https://www.elcolombiano.com/medellin/medellin/evacuaron-palacio-de-justicia-por-hombre-armado-KK21181469'},\n",
       "  {'EPM abrió nueva licitación para terminar las obras civiles de Hidroituango': 'https://www.elcolombiano.com/medellin/medellin/epm-abrio-nueva-licitacion-para-terminar-las-obras-civiles-de-hidroituango-MK21181287'},\n",
       "  {'¿Habrá Día sin Carro en abril de 2023 en Medellín?': 'https://www.elcolombiano.com/medellin/medellin/dia-sin-carro-en-medellin-para-este-2023-MF21179371'},\n",
       "  {'Pilas: por Corre mi Tierra y obras públicas habrá cierres viales este fin de semana en Medellín': 'https://www.elcolombiano.com/medellin/medellin/cierres-viales-para-este-fin-de-semana-en-medellin-HF21177880'},\n",
       "  {'Laureles, Guayabal y Belén, las comunas más afectadas por el vandalismo a EnCicla': 'https://www.elcolombiano.com/medellin/medellin/comunas-mas-afectadas-por-danos-a-encicla-en-medellin-HF21176427'},\n",
       "  {'¿Ya revisó? Este es el pico y placa para este viernes en Medellín': 'https://www.elcolombiano.com/medellin/medellin/pico-y-placa-medellin-viernes-21-de-abril-2023-CF21174431'}]}"
      ]
     },
     "execution_count": 11,
     "metadata": {},
     "output_type": "execute_result"
    }
   ],
   "source": [
    "news = {}\n",
    "news[\"medellin\"] = []\n",
    "\n",
    "for i in links:\n",
    "  prueba1 = requests.get(i)\n",
    "  prueba2 = BeautifulSoup(prueba1.text, \"html.parser\")\n",
    "  titulo_code = prueba2.find(\"title\")\n",
    "  titulo_uncode = titulo_code.get_text()\n",
    "  titulo = titulo_uncode.encode('iso-8859-1').decode('utf-8')\n",
    "  news[\"medellin\"].append({titulo : i})\n",
    "\n",
    "news"
   ]
  },
  {
   "attachments": {},
   "cell_type": "markdown",
   "metadata": {},
   "source": [
    "##### Otros titulares"
   ]
  },
  {
   "cell_type": "code",
   "execution_count": 12,
   "metadata": {},
   "outputs": [
    {
     "data": {
      "text/plain": [
       "['Por problemas de convivencia en inquilinatos, indígenas se quedan a las afueras de colegio en Medellín: Personería',\n",
       " '“Que muestren el video donde esgrimí el arma; todo es un montaje burdo”: Alexánder Obregón sobre hecho en el Palacio de Justicia',\n",
       " 'EPM abrió nueva licitación para terminar las obras civiles de Hidroituango',\n",
       " 'Este sería el hombre que armó el caos en el Palacio de Justicia luego de sacar un arma de fuego',\n",
       " 'Pilas: por Corre mi Tierra y obras públicas habrá cierres viales este fin de semana en Medellín',\n",
       " 'Cada cinco días un agente de tránsito es golpeado en las calles de Medellín',\n",
       " 'En imágenes: así fue la manifestación de la oposición este sábado en Medellín',\n",
       " 'Con acto simbólico en La Alpujarra rechazaron violencia contra la población LGBTIQ+',\n",
       " 'Laureles, Guayabal y Belén, las comunas más afectadas por el vandalismo a EnCicla',\n",
       " 'Especial | Las fotos inéditas del fugaz esplendor de la Medellín de los 30 y 40 ']"
      ]
     },
     "execution_count": 12,
     "metadata": {},
     "output_type": "execute_result"
    }
   ],
   "source": [
    "otro_titular = requests.get(medellin_link)\n",
    "otro_titular = BeautifulSoup(otro_titular.text, \"html.parser\")\n",
    "\n",
    "titulo1 = otro_titular.find(name=\"div\", attrs={\"class\" : \"seccion__general iter-portal-size iter-portal-size-content\"}).find_all(\"h3\")\n",
    "\n",
    "titles = []\n",
    "for i in titulo1:\n",
    "  textos = i.span.get_text()\n",
    "  decodificacion = textos.encode('iso-8859-1').decode('utf-8')\n",
    "  titles.append(decodificacion)\n",
    "\n",
    "titles = list(set(titles))\n",
    "\n",
    "# Los 10 primeros\n",
    "titles[:10]"
   ]
  }
 ],
 "metadata": {
  "kernelspec": {
   "display_name": "venv",
   "language": "python",
   "name": "python3"
  },
  "language_info": {
   "codemirror_mode": {
    "name": "ipython",
    "version": 3
   },
   "file_extension": ".py",
   "mimetype": "text/x-python",
   "name": "python",
   "nbconvert_exporter": "python",
   "pygments_lexer": "ipython3",
   "version": "3.10.6"
  },
  "orig_nbformat": 4
 },
 "nbformat": 4,
 "nbformat_minor": 2
}
