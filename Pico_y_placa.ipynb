{
 "cells": [
  {
   "attachments": {},
   "cell_type": "markdown",
   "metadata": {},
   "source": [
    "# Pico y placa en Medellín"
   ]
  },
  {
   "cell_type": "code",
   "execution_count": 1,
   "metadata": {},
   "outputs": [],
   "source": [
    "# Librerias\n",
    "\n",
    "import requests\n",
    "from bs4 import BeautifulSoup\n",
    "import datetime"
   ]
  },
  {
   "cell_type": "code",
   "execution_count": 2,
   "metadata": {},
   "outputs": [
    {
     "data": {
      "text/plain": [
       "{'particulares': '5 y 7', 'dos tiempos': '5 y 7'}"
      ]
     },
     "execution_count": 2,
     "metadata": {},
     "output_type": "execute_result"
    }
   ],
   "source": [
    "hoy = datetime.date.today()\n",
    "\n",
    "dias_semana = ['lunes', 'martes', 'miercoles', 'jueves', 'viernes', 'sabado', 'domingo']\n",
    "dia_semana = dias_semana[hoy.weekday()]\n",
    "\n",
    "\n",
    "pagina_inicial = requests.get(\"https://www.elcolombiano.com\")\n",
    "pagina_inicial = BeautifulSoup(pagina_inicial.text, \"html.parser\")\n",
    "vehiculos = pagina_inicial.find(name=\"div\", attrs={\"class\" : f\"dayTitle {dia_semana}\"}).find_all(\"span\")\n",
    "\n",
    "# Extraer str de particulares\n",
    "auto = vehiculos[0].get(\"class\")[1]\n",
    "\n",
    "# Extraer str de dos tiempos\n",
    "moto = vehiculos[1].get(\"class\")\n",
    "moto = f\"{moto[1]} {moto[2]}\"\n",
    "\n",
    "datos = pagina_inicial.find(name=\"div\", attrs={\"class\" : f\"dayTitle {dia_semana}\"}).find_all(\"p\")\n",
    "datos = [i.get_text() for i in datos]\n",
    "\n",
    "info = {auto : datos[0], moto : datos[1]}\n",
    "info\n"
   ]
  }
 ],
 "metadata": {
  "kernelspec": {
   "display_name": "venv",
   "language": "python",
   "name": "python3"
  },
  "language_info": {
   "codemirror_mode": {
    "name": "ipython",
    "version": 3
   },
   "file_extension": ".py",
   "mimetype": "text/x-python",
   "name": "python",
   "nbconvert_exporter": "python",
   "pygments_lexer": "ipython3",
   "version": "3.10.6"
  },
  "orig_nbformat": 4
 },
 "nbformat": 4,
 "nbformat_minor": 2
}
