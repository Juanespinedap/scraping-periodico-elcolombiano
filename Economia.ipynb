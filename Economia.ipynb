{
 "cells": [
  {
   "attachments": {},
   "cell_type": "markdown",
   "metadata": {},
   "source": [
    "# Noticias económicas"
   ]
  },
  {
   "cell_type": "code",
   "execution_count": 7,
   "metadata": {},
   "outputs": [],
   "source": [
    "# Librerias\n",
    "\n",
    "import requests\n",
    "from bs4 import BeautifulSoup"
   ]
  },
  {
   "attachments": {},
   "cell_type": "markdown",
   "metadata": {},
   "source": [
    "##### Enlace"
   ]
  },
  {
   "cell_type": "code",
   "execution_count": 8,
   "metadata": {},
   "outputs": [
    {
     "data": {
      "text/plain": [
       "'https://www.elcolombiano.com/negocios'"
      ]
     },
     "execution_count": 8,
     "metadata": {},
     "output_type": "execute_result"
    }
   ],
   "source": [
    "pagina_inicial = requests.get(\"https://www.elcolombiano.com\")\n",
    "pagina_inicial = BeautifulSoup(pagina_inicial.text, \"html.parser\")\n",
    "pagina_inicial = pagina_inicial.find(name=\"ul\", attrs={\"class\" : \"nav__seccion__list display-flex\"}).find_all(\"li\")\n",
    "\n",
    "sec_pagina_inicial = [i.a.get(\"href\") for i in pagina_inicial]\n",
    "economia_link = sec_pagina_inicial[2]\n",
    "economia_link\n"
   ]
  },
  {
   "attachments": {},
   "cell_type": "markdown",
   "metadata": {},
   "source": [
    "##### Titulares y links de noticias económicas"
   ]
  },
  {
   "cell_type": "code",
   "execution_count": 9,
   "metadata": {},
   "outputs": [
    {
     "name": "stdout",
     "output_type": "stream",
     "text": [
      "/negocios/lo-que-yo-ejecuto-son-las-decisiones-del-presidente-petro-la-ministra-irene-velez-responde-en-entrevista-a-las-criticas-que-ha-recibido-CK21184611 \n",
      " /negocios/sic-pone-condicion-para-archivar-investigacion-contra-avianca-y-viva-AK21184631 \n",
      " /negocios/ultra-air-ya-tendria-inversionistas-y-volveria-a-operar-en-colombia-AK21183838 \n",
      " ['/negocios/por-que-la-agricultura-en-colombia-es-menos-productiva-LK21182854', '/negocios/al-gobierno-le-falta-mas-gestion-para-regular-el-uso-del-hidrogeno-AK21182398', '/negocios/tiquetes-vuelos-medellin-cuales-destinos-han-encarecido-mas-segun-kayak-FK21182337'] \n",
      " ['/negocios/bia-los-exrappi-que-crearon-una-app-de-energia-digital-FK21181400', '/negocios/finanzas/accion-de-ecopetrol-se-fue-al-piso-cerca-de-su-distribucion-de-dividendos-BK21182120', '/negocios/fallas-en-aplicacion-y-pagina-web-bancolombia-21-abril-2023-JK21181796', '/negocios/chile-creara-empresa-para-explotar-litio-CF21174767', '/negocios/empresas/nutresa-vigila-posible-ataque-cibernetico-GF21175883', '/negocios/dolar-vuelve-a-ainiciar-al-alza-en-colombia-NF21174832', '/negocios/tres-efectos-negativos-de-las-reformas-de-petro-DF21174513', '/negocios/la-mitad-de-los-colombianos-se-considera-pobre-2023-JF21174481', '/negocios/empresas/pulso-legal-entre-gilinski-y-el-gea-2023-CF21174372']\n"
     ]
    }
   ],
   "source": [
    "economia = requests.get(economia_link)\n",
    "economia = BeautifulSoup(economia.text, \"html.parser\")\n",
    "\n",
    "link = economia.find(name=\"h3\", attrs={\"class\" : \"title__noticia__principal\"}).find(\"a\")\n",
    "principal = link.get(\"href\")\n",
    "\n",
    "link1 = economia.find(name=\"div\", attrs={\"class\" : \"ec-teaser-noticia-seccion-metadatos\"}).find(\"a\")\n",
    "izq_up = link1.get(\"href\")\n",
    "\n",
    "link2 = economia.find(name=\"div\", attrs={\"class\" : \"width-60 text__noticia__columna__ultimas\"})\n",
    "izq_down = link2.find(name=\"a\", attrs={\"class\" : \"google__ultimas__noticias\"})\n",
    "izq_down = izq_down.get(\"href\")\n",
    "\n",
    "link3 = economia.find(name=\"div\", attrs={\"class\" : \"col-xs-12 col-sm-3 col-md-3 portlet-column\"}).find_all(\"div\")\n",
    "der_up = []\n",
    "for i in link3:\n",
    "  links = i.get(\"data-urldestination\")\n",
    "  if links == None:\n",
    "    continue\n",
    "  else:\n",
    "    der_up.append(links)\n",
    "\n",
    "link4 = economia.find(name=\"div\", attrs={\"class\" : \"col-xs-12 col-sm-9 col-md-9 portlet-column\"}).find_all(\"div\")\n",
    "centro = []\n",
    "for i in link4:\n",
    "  links = i.get(\"data-urldestination\")\n",
    "  if links == None:\n",
    "    continue\n",
    "  else:\n",
    "    centro.append(links)\n",
    "\n",
    "print(principal, \"\\n\", izq_up, \"\\n\", izq_down, \"\\n\", der_up, \"\\n\", centro)"
   ]
  },
  {
   "cell_type": "code",
   "execution_count": 10,
   "metadata": {},
   "outputs": [
    {
     "data": {
      "text/plain": [
       "['https://www.elcolombiano.com/negocios/negocios/lo-que-yo-ejecuto-son-las-decisiones-del-presidente-petro-la-ministra-irene-velez-responde-en-entrevista-a-las-criticas-que-ha-recibido-CK21184611',\n",
       " 'https://www.elcolombiano.com/negocios/negocios/sic-pone-condicion-para-archivar-investigacion-contra-avianca-y-viva-AK21184631',\n",
       " 'https://www.elcolombiano.com/negocios/negocios/ultra-air-ya-tendria-inversionistas-y-volveria-a-operar-en-colombia-AK21183838',\n",
       " 'https://www.elcolombiano.com/negocios/negocios/por-que-la-agricultura-en-colombia-es-menos-productiva-LK21182854',\n",
       " 'https://www.elcolombiano.com/negocios/negocios/al-gobierno-le-falta-mas-gestion-para-regular-el-uso-del-hidrogeno-AK21182398',\n",
       " 'https://www.elcolombiano.com/negocios/negocios/tiquetes-vuelos-medellin-cuales-destinos-han-encarecido-mas-segun-kayak-FK21182337',\n",
       " 'https://www.elcolombiano.com/negocios/negocios/bia-los-exrappi-que-crearon-una-app-de-energia-digital-FK21181400',\n",
       " 'https://www.elcolombiano.com/negocios/negocios/finanzas/accion-de-ecopetrol-se-fue-al-piso-cerca-de-su-distribucion-de-dividendos-BK21182120',\n",
       " 'https://www.elcolombiano.com/negocios/negocios/fallas-en-aplicacion-y-pagina-web-bancolombia-21-abril-2023-JK21181796',\n",
       " 'https://www.elcolombiano.com/negocios/negocios/chile-creara-empresa-para-explotar-litio-CF21174767',\n",
       " 'https://www.elcolombiano.com/negocios/negocios/empresas/nutresa-vigila-posible-ataque-cibernetico-GF21175883',\n",
       " 'https://www.elcolombiano.com/negocios/negocios/dolar-vuelve-a-ainiciar-al-alza-en-colombia-NF21174832',\n",
       " 'https://www.elcolombiano.com/negocios/negocios/tres-efectos-negativos-de-las-reformas-de-petro-DF21174513',\n",
       " 'https://www.elcolombiano.com/negocios/negocios/la-mitad-de-los-colombianos-se-considera-pobre-2023-JF21174481',\n",
       " 'https://www.elcolombiano.com/negocios/negocios/empresas/pulso-legal-entre-gilinski-y-el-gea-2023-CF21174372']"
      ]
     },
     "execution_count": 10,
     "metadata": {},
     "output_type": "execute_result"
    }
   ],
   "source": [
    "\n",
    "listado = principal, izq_up, izq_down\n",
    "listado = list(listado)\n",
    "listado = listado + der_up + centro\n",
    "\n",
    "links = [economia_link + i for i in listado]\n",
    "links"
   ]
  },
  {
   "cell_type": "code",
   "execution_count": 11,
   "metadata": {},
   "outputs": [
    {
     "data": {
      "text/plain": [
       "{'economia': [{'“Lo que yo ejecuto son las decisiones del presidente Petro”: la ministra Irene Vélez responde en entrevista a las críticas que ha recibido': 'https://www.elcolombiano.com/negocios/negocios/lo-que-yo-ejecuto-son-las-decisiones-del-presidente-petro-la-ministra-irene-velez-responde-en-entrevista-a-las-criticas-que-ha-recibido-CK21184611'},\n",
       "  {'Viva y Avianca deben compensar a pasajeros afectados, para que la SIC cierre investigación por prácticas restrictivas': 'https://www.elcolombiano.com/negocios/negocios/sic-pone-condicion-para-archivar-investigacion-contra-avianca-y-viva-AK21184631'},\n",
       "  {'Ultra Air ya tendría inversionistas y la próxima semana anunciaría el reinicio de operaciones': 'https://www.elcolombiano.com/negocios/negocios/ultra-air-ya-tendria-inversionistas-y-volveria-a-operar-en-colombia-AK21183838'},\n",
       "  {'Lluvias, árboles viejos y poca fertilización: así bajó la productividad del agro colombiano': 'https://www.elcolombiano.com/negocios/negocios/por-que-la-agricultura-en-colombia-es-menos-productiva-LK21182854'},\n",
       "  {'‘Al Gobierno le falta más gestión para regular el uso del hidrógeno’': 'https://www.elcolombiano.com/negocios/negocios/al-gobierno-le-falta-mas-gestion-para-regular-el-uso-del-hidrogeno-AK21182398'},\n",
       "  {'Bogotá, la ruta que más se encareció para volar desde Medellín': 'https://www.elcolombiano.com/negocios/negocios/tiquetes-vuelos-medellin-cuales-destinos-han-encarecido-mas-segun-kayak-FK21182337'},\n",
       "  {'Los exRappi que crearon una plataforma para vender energía digital': 'https://www.elcolombiano.com/negocios/negocios/bia-los-exrappi-que-crearon-una-app-de-energia-digital-FK21181400'},\n",
       "  {'Acción de Ecopetrol se fue al piso, cerca de su distribución de dividendos': 'https://www.elcolombiano.com/negocios/negocios/finanzas/accion-de-ecopetrol-se-fue-al-piso-cerca-de-su-distribucion-de-dividendos-BK21182120'},\n",
       "  {'Ojo: Bancolombia confirma fallas en sus servicios': 'https://www.elcolombiano.com/negocios/negocios/fallas-en-aplicacion-y-pagina-web-bancolombia-21-abril-2023-JK21181796'},\n",
       "  {'Boric anuncia asociación público-privada para explotación del litio en Chile': 'https://www.elcolombiano.com/negocios/negocios/chile-creara-empresa-para-explotar-litio-CF21174767'},\n",
       "  {'Nutresa monitorea posible ataque cibernético': 'https://www.elcolombiano.com/negocios/negocios/empresas/nutresa-vigila-posible-ataque-cibernetico-GF21175883'},\n",
       "  {'El dólar suma una nueva jornada arriba de $4.500, pero se ubica $17,18 abajo de la TRM': 'https://www.elcolombiano.com/negocios/negocios/dolar-vuelve-a-ainiciar-al-alza-en-colombia-NF21174832'},\n",
       "  {'Los tres efectos negativos en la economía si se aprueban las reformas propuestas por Petro': 'https://www.elcolombiano.com/negocios/negocios/tres-efectos-negativos-de-las-reformas-de-petro-DF21174513'},\n",
       "  {'La mitad de los hogares se considera pobres, según Encuesta de Calidad de Vida': 'https://www.elcolombiano.com/negocios/negocios/la-mitad-de-los-colombianos-se-considera-pobre-2023-JF21174481'},\n",
       "  {'¿Quién demanda más entre el Grupo Empresarial Antioqueño y el Grupo Gilinski?': 'https://www.elcolombiano.com/negocios/negocios/empresas/pulso-legal-entre-gilinski-y-el-gea-2023-CF21174372'}]}"
      ]
     },
     "execution_count": 11,
     "metadata": {},
     "output_type": "execute_result"
    }
   ],
   "source": [
    "news = {}\n",
    "news[\"economia\"] = []\n",
    "\n",
    "for i in links:\n",
    "  prueba1 = requests.get(i)\n",
    "  prueba2 = BeautifulSoup(prueba1.text, \"html.parser\")\n",
    "  titulo_code = prueba2.find(\"title\")\n",
    "  titulo_uncode = titulo_code.get_text()\n",
    "  titulo = titulo_uncode.encode('iso-8859-1').decode('utf-8')\n",
    "  news[\"economia\"].append({titulo : i})\n",
    "\n",
    "news"
   ]
  },
  {
   "attachments": {},
   "cell_type": "markdown",
   "metadata": {},
   "source": [
    "##### Otros titulares"
   ]
  },
  {
   "cell_type": "code",
   "execution_count": 12,
   "metadata": {},
   "outputs": [
    {
     "data": {
      "text/plain": [
       "['Una fintech paisa explica porqué es buen momento para financiar, les contamos de quien se trata',\n",
       " 'Viva y Avianca deben compensar a pasajeros afectados, para que la SIC cierre investigación por prácticas restrictivas',\n",
       " 'Acción de Ecopetrol se fue al piso, cerca de su distribución de dividendos',\n",
       " '“El interés es por llegar al precio justo de la leche”',\n",
       " '¿Quién demanda más entre el Grupo Empresarial Antioqueño y el Grupo Gilinski?',\n",
       " 'Anuncian medidas para proteger animales que están en zonas de riesgo por el Nevado del Ruiz',\n",
       " 'La mitad de los hogares se considera pobres, según Encuesta de Calidad de Vida',\n",
       " 'Ultra Air ya tendría inversionistas y la próxima semana anunciaría el reinicio de operaciones',\n",
       " 'Bananeros de Urabá confían en que Puerto Antioquia entre en operación en 2025',\n",
       " 'Altos precios de la carne provocarían crisis de seguridad alimentaria: frigoríficos lanzan alerta']"
      ]
     },
     "execution_count": 12,
     "metadata": {},
     "output_type": "execute_result"
    }
   ],
   "source": [
    "otro_titular = requests.get(economia_link)\n",
    "otro_titular = BeautifulSoup(otro_titular.text, \"html.parser\")\n",
    "\n",
    "titulo1 = otro_titular.find(name=\"div\", attrs={\"class\" : \"seccion__general iter-portal-size iter-portal-size-content\"}).find_all(\"h3\")\n",
    "\n",
    "titles = []\n",
    "for i in titulo1:\n",
    "  textos = i.span.get_text()\n",
    "  decodificacion = textos.encode('iso-8859-1').decode('utf-8')\n",
    "  titles.append(decodificacion)\n",
    "\n",
    "titles = list(set(titles))\n",
    "\n",
    "# Los 10 primeros\n",
    "titles[:10]"
   ]
  }
 ],
 "metadata": {
  "kernelspec": {
   "display_name": "venv",
   "language": "python",
   "name": "python3"
  },
  "language_info": {
   "codemirror_mode": {
    "name": "ipython",
    "version": 3
   },
   "file_extension": ".py",
   "mimetype": "text/x-python",
   "name": "python",
   "nbconvert_exporter": "python",
   "pygments_lexer": "ipython3",
   "version": "3.10.6"
  },
  "orig_nbformat": 4
 },
 "nbformat": 4,
 "nbformat_minor": 2
}
