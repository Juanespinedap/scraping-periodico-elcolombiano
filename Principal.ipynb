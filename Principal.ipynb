{
 "cells": [
  {
   "attachments": {},
   "cell_type": "markdown",
   "metadata": {},
   "source": [
    "# Noticias generales"
   ]
  },
  {
   "cell_type": "code",
   "execution_count": 1,
   "metadata": {},
   "outputs": [],
   "source": [
    "import requests\n",
    "from bs4 import BeautifulSoup"
   ]
  },
  {
   "attachments": {},
   "cell_type": "markdown",
   "metadata": {},
   "source": [
    "##### Titulares y links de noticias económicas"
   ]
  },
  {
   "cell_type": "code",
   "execution_count": 2,
   "metadata": {},
   "outputs": [
    {
     "name": "stdout",
     "output_type": "stream",
     "text": [
      "/deportes/futbol/la-bitacora-secreta-del-ataque-de-las-barras-en-el-partido-nacional-america-NK21185976 \n",
      " /deportes/futbol/linda-caicedo-titular-con-el-real-madrid-en-el-duelo-ante-villarreal-OK21186800 \n",
      " /colombia/politica/denuncia-de-maria-fernanda-caban-sobre-costo-de-vuelos-de-francia-marquez-KK21186840 \n",
      " ['/deportes/futbol/camaras-del-estadio-no-sirvieron-para-detectar-a-los-vandalos-del-domingo-KK21185861', '/antioquia/nuevas-medidas-de-seguridad-en-el-polideportivo-sur-para-partido-entre-atletico-nacional-y-el-envigado-futbol-club-JK21186258'] \n",
      " ['/medellin/fotos-antiguas-de-medellin-en-el-archivo-de-carlos-rodriguez-foto-reporter-MK21184338', '/antioquia/medellin/medellin-se-lleno-de-carros-exoticos-gracias-al-regueton-DK21186005', '/negocios/lo-que-yo-ejecuto-son-las-decisiones-del-presidente-petro-la-ministra-irene-velez-responde-en-entrevista-a-las-criticas-que-ha-recibido-CK21184611', '/multimedia/imagenes/marchas-de-la-oposicion-a-gustavo-petro-en-colombia-este-22-de-abril-DK21184766', '/colombia/cuales-son-los-grupos-armados-del-pais-y-como-estan-organizados-eln-y-clan-del-golfo-JK21184195'] \n",
      " ['/deportes/ciclismo/tadej-pogacar-se-fracturo-una-muneca-a-dos-meses-del-tour-de-francia-NK21186759', '/tecnologia/twitter-le-devolvio-chulo-azul-a-varias-cuentas-que-estaban-verificadas-nyt-shakira-EK21186705']\n"
     ]
    }
   ],
   "source": [
    "url = \"https://www.elcolombiano.com\"\n",
    "pagina_inicial = requests.get(url)\n",
    "pagina_inicial = BeautifulSoup(pagina_inicial.text, \"html.parser\")\n",
    "\n",
    "link = pagina_inicial.find(name=\"h3\", attrs={\"class\" : \"title__noticia__principal\"}).find(\"a\")\n",
    "principal = link.get(\"href\")\n",
    "\n",
    "link1 = pagina_inicial.find(name=\"div\", attrs={\"class\" : \"ec-teaser-noticia-seccion-metadatos\"}).find(\"a\")\n",
    "izq_up = link1.get(\"href\")\n",
    "\n",
    "link2 = pagina_inicial.find(name=\"div\", attrs={\"class\" : \"width-60 text__noticia__columna__ultimas\"})\n",
    "izq_down = link2.find(name=\"a\", attrs={\"class\" : \"google__ultimas__noticias\"})\n",
    "izq_down = izq_down.get(\"href\")\n",
    "\n",
    "link3 = pagina_inicial.find(name=\"section\", attrs={\"class\" : \"teaser-related-list teaser-related-internal-links teaser-related-external-links\"}).find_all(\"a\")\n",
    "pequenio = []\n",
    "for i in link3:\n",
    "    links = i.get(\"href\")\n",
    "    if links == None:\n",
    "        pequenio.append(None)\n",
    "    else:\n",
    "        pequenio.append(links)\n",
    "\n",
    "link4 = pagina_inicial .find(name=\"div\", attrs={\"class\" : \"col-xs-12 col-sm-3 col-md-3 portlet-column\"}).find_all(\"div\")\n",
    "der_up = []\n",
    "for i in link4:\n",
    "  links = i.get(\"data-urldestination\")\n",
    "  if links == None:\n",
    "    continue\n",
    "  else:\n",
    "    der_up.append(links)\n",
    "\n",
    "link5 = pagina_inicial.find(name=\"div\", attrs={\"class\" : \"portlet-boundary portlet-static-end teaser-viewer-portlet noticias__column__grid3 secundarias_seguimiento\"}).find_all(\"article\")\n",
    "centro =  [i.a.get(\"href\") for i in link5]\n",
    "\n",
    "print(principal, \"\\n\", izq_up, \"\\n\", izq_down, \"\\n\", pequenio, \"\\n\", der_up, \"\\n\", centro)"
   ]
  },
  {
   "cell_type": "code",
   "execution_count": 3,
   "metadata": {},
   "outputs": [
    {
     "data": {
      "text/plain": [
       "['https://www.elcolombiano.com/deportes/futbol/la-bitacora-secreta-del-ataque-de-las-barras-en-el-partido-nacional-america-NK21185976',\n",
       " 'https://www.elcolombiano.com/deportes/futbol/linda-caicedo-titular-con-el-real-madrid-en-el-duelo-ante-villarreal-OK21186800',\n",
       " 'https://www.elcolombiano.com/colombia/politica/denuncia-de-maria-fernanda-caban-sobre-costo-de-vuelos-de-francia-marquez-KK21186840',\n",
       " 'https://www.elcolombiano.com/deportes/futbol/camaras-del-estadio-no-sirvieron-para-detectar-a-los-vandalos-del-domingo-KK21185861',\n",
       " 'https://www.elcolombiano.com/antioquia/nuevas-medidas-de-seguridad-en-el-polideportivo-sur-para-partido-entre-atletico-nacional-y-el-envigado-futbol-club-JK21186258',\n",
       " 'https://www.elcolombiano.com/medellin/fotos-antiguas-de-medellin-en-el-archivo-de-carlos-rodriguez-foto-reporter-MK21184338',\n",
       " 'https://www.elcolombiano.com/antioquia/medellin/medellin-se-lleno-de-carros-exoticos-gracias-al-regueton-DK21186005',\n",
       " 'https://www.elcolombiano.com/negocios/lo-que-yo-ejecuto-son-las-decisiones-del-presidente-petro-la-ministra-irene-velez-responde-en-entrevista-a-las-criticas-que-ha-recibido-CK21184611',\n",
       " 'https://www.elcolombiano.com/multimedia/imagenes/marchas-de-la-oposicion-a-gustavo-petro-en-colombia-este-22-de-abril-DK21184766',\n",
       " 'https://www.elcolombiano.com/colombia/cuales-son-los-grupos-armados-del-pais-y-como-estan-organizados-eln-y-clan-del-golfo-JK21184195',\n",
       " 'https://www.elcolombiano.com/deportes/ciclismo/tadej-pogacar-se-fracturo-una-muneca-a-dos-meses-del-tour-de-francia-NK21186759',\n",
       " 'https://www.elcolombiano.com/tecnologia/twitter-le-devolvio-chulo-azul-a-varias-cuentas-que-estaban-verificadas-nyt-shakira-EK21186705']"
      ]
     },
     "execution_count": 3,
     "metadata": {},
     "output_type": "execute_result"
    }
   ],
   "source": [
    "listado = principal, izq_up, izq_down\n",
    "listado = list(listado)\n",
    "listado = listado + pequenio + der_up + centro\n",
    "\n",
    "links = [url + i for i in listado]\n",
    "links"
   ]
  },
  {
   "cell_type": "code",
   "execution_count": 4,
   "metadata": {},
   "outputs": [
    {
     "data": {
      "text/plain": [
       "{'general': [{'La bitácora secreta del ataque de las barras en el partido Nacional-América en el Atanasio': 'https://www.elcolombiano.com/deportes/futbol/la-bitacora-secreta-del-ataque-de-las-barras-en-el-partido-nacional-america-NK21185976'},\n",
       "  {'En vivo: Linda Caicedo comanda el ataque del Real Madrid ante Villarreal': 'https://www.elcolombiano.com/deportes/futbol/linda-caicedo-titular-con-el-real-madrid-en-el-duelo-ante-villarreal-OK21186800'},\n",
       "  {'Las 128 horas de vuelo de Francia Márquez han costado casi $2.870 millones: denuncia de María Fernanda Cabal': 'https://www.elcolombiano.com/colombia/politica/denuncia-de-maria-fernanda-caban-sobre-costo-de-vuelos-de-francia-marquez-KK21186840'},\n",
       "  {'Cámaras del estadio no sirvieron para detectar a los vándalos del domingo': 'https://www.elcolombiano.com/deportes/futbol/camaras-del-estadio-no-sirvieron-para-detectar-a-los-vandalos-del-domingo-KK21185861'},\n",
       "  {'Ante el mal comportamiento de Los del Sur, refuerzan medidas de seguridad en el Estadio Polideportivo Sur de Envigado': 'https://www.elcolombiano.com/antioquia/nuevas-medidas-de-seguridad-en-el-polideportivo-sur-para-partido-entre-atletico-nacional-y-el-envigado-futbol-club-JK21186258'},\n",
       "  {'Especial | Las fotos inéditas del fugaz esplendor de la Medellín de los 30 y 40': 'https://www.elcolombiano.com/medellin/fotos-antiguas-de-medellin-en-el-archivo-de-carlos-rodriguez-foto-reporter-MK21184338'},\n",
       "  {'Medellín se llenó de carros exóticos gracias al reguetón': 'https://www.elcolombiano.com/antioquia/medellin/medellin-se-lleno-de-carros-exoticos-gracias-al-regueton-DK21186005'},\n",
       "  {'“Lo que yo ejecuto son las decisiones del presidente Petro”: la ministra Irene Vélez responde en entrevista a las críticas que ha recibido': 'https://www.elcolombiano.com/negocios/lo-que-yo-ejecuto-son-las-decisiones-del-presidente-petro-la-ministra-irene-velez-responde-en-entrevista-a-las-criticas-que-ha-recibido-CK21184611'},\n",
       "  {'En imágenes | Así se vivieron las marchas de la oposición al Gobierno Petro en el país': 'https://www.elcolombiano.com/multimedia/imagenes/marchas-de-la-oposicion-a-gustavo-petro-en-colombia-este-22-de-abril-DK21184766'},\n",
       "  {'Cinco megacarteles y 23 narcobandas: así es el mapa criminal en Colombia': 'https://www.elcolombiano.com/colombia/cuales-son-los-grupos-armados-del-pais-y-como-estan-organizados-eln-y-clan-del-golfo-JK21184195'},\n",
       "  {'Tadej Pogacar sufrió una fractura y será operado, ¿le dice adiós al Tour de Francia?': 'https://www.elcolombiano.com/deportes/ciclismo/tadej-pogacar-se-fracturo-una-muneca-a-dos-meses-del-tour-de-francia-NK21186759'},\n",
       "  {'¿Elon Musk se arrepintió? Twitter le devolvió el chulo azul a varias cuentas': 'https://www.elcolombiano.com/tecnologia/twitter-le-devolvio-chulo-azul-a-varias-cuentas-que-estaban-verificadas-nyt-shakira-EK21186705'}]}"
      ]
     },
     "execution_count": 4,
     "metadata": {},
     "output_type": "execute_result"
    }
   ],
   "source": [
    "news = {}\n",
    "news[\"general\"] = []\n",
    "j = []\n",
    "\n",
    "for i in links:\n",
    "  prueba1 = requests.get(i)\n",
    "  prueba2 = BeautifulSoup(prueba1.text, \"html.parser\")\n",
    "\n",
    "  # titulo\n",
    "  titulo_code = prueba2.find(\"title\")\n",
    "  titulo_uncode = titulo_code.get_text()\n",
    "  titulo = titulo_uncode.encode('iso-8859-1').decode('utf-8')\n",
    "\n",
    "  news[\"general\"].append({titulo : i})\n",
    "\n",
    "news"
   ]
  },
  {
   "attachments": {},
   "cell_type": "markdown",
   "metadata": {},
   "source": [
    "##### Otros titulares"
   ]
  },
  {
   "cell_type": "code",
   "execution_count": 5,
   "metadata": {},
   "outputs": [
    {
     "data": {
      "text/plain": [
       "['Ante el mal comportamiento de Los del Sur, refuerzan medidas de seguridad en el Estadio Polideportivo Sur de Envigado ',\n",
       " 'Se generó un cortocircuito entre el embajador Benedetti y el canciller Leyva : secretos del poder en De Buena Fuente',\n",
       " 'Las conclusiones que dejó el encuentro entre el gobierno Petro y la oposición venezolana',\n",
       " 'Álvaro Leyva: así es el Canciller de Petro que carga con el lastre de las extintas Farc',\n",
       " 'Pilas: por Corre mi Tierra y obras públicas habrá cierres viales este fin de semana en Medellín',\n",
       " 'A metros del trajín de Medellín, Elisa Madrigal Rodríguez trabaja con hipopótamos, osos y leones',\n",
       " '“Tras las entrevistas llegué al hotel a llorar”: Rafael Poveda sobre su conversación con Garavito que son ahora libros',\n",
       " 'Cámaras del estadio no sirvieron para detectar a los vándalos del domingo ',\n",
       " 'Alejandro Toledo, expresidente de Perú, pide devolución de 1 millón de dólares tras entregarse por extradición',\n",
       " 'Crece la oposición al Gobierno Petro: hubo marchas en 14 ciudades contra sus reformas',\n",
       " 'Multinacional Mineros habla del paro en el Bajo Cauca: “La región tiene un inmenso potencial: produce el 60% del oro de todo el país”',\n",
       " 'Lluvias, árboles viejos y poca fertilización: así bajó la productividad del agro colombiano']"
      ]
     },
     "execution_count": 5,
     "metadata": {},
     "output_type": "execute_result"
    }
   ],
   "source": [
    "otro_titular = pagina_inicial.find(name=\"div\", attrs={\"class\" : \"seccion__general iter-portal-size iter-portal-size-content\"}).find_all(\"h3\")\n",
    "# otro_titular = pagina_inicial.find(name=\"div\", attrs={\"class\" : \"col-xs-12 col-sm-9 col-md-9 padding-0-xs\"})\n",
    "\n",
    "titles = []\n",
    "\n",
    "for i in otro_titular:\n",
    "    t  = i.span\n",
    "    if t  == None:\n",
    "        continue\n",
    "    else:\n",
    "        titulo_uncode = t.get_text()\n",
    "        titulo = titulo_uncode.encode('iso-8859-1').decode('utf-8')\n",
    "        titles.append(titulo)\n",
    "\n",
    "# Mostrar Registros desde el 15 al 26\n",
    "titles[15:27]\n",
    "\n"
   ]
  }
 ],
 "metadata": {
  "kernelspec": {
   "display_name": "venv",
   "language": "python",
   "name": "python3"
  },
  "language_info": {
   "codemirror_mode": {
    "name": "ipython",
    "version": 3
   },
   "file_extension": ".py",
   "mimetype": "text/x-python",
   "name": "python",
   "nbconvert_exporter": "python",
   "pygments_lexer": "ipython3",
   "version": "3.10.6"
  },
  "orig_nbformat": 4
 },
 "nbformat": 4,
 "nbformat_minor": 2
}
